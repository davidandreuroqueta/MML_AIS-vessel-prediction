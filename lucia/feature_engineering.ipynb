{
 "cells": [
  {
   "cell_type": "code",
   "execution_count": 12,
   "metadata": {},
   "outputs": [],
   "source": [
    "# import necessary libraries\n",
    "import pandas as pd\n",
    "import numpy as np\n",
    "from geopy.distance import geodesic\n",
    "from sklearn.preprocessing import MinMaxScaler"
   ]
  },
  {
   "cell_type": "code",
   "execution_count": 13,
   "metadata": {},
   "outputs": [
    {
     "name": "stderr",
     "output_type": "stream",
     "text": [
      "C:\\Users\\lucia\\AppData\\Local\\Temp\\ipykernel_12692\\2049420551.py:2: DtypeWarning: Columns (42) have mixed types. Specify dtype option on import or set low_memory=False.\n",
      "  ais_train = pd.read_csv('ais_train_cleaned.csv')\n"
     ]
    }
   ],
   "source": [
    "# reloading the cleaned dataset\n",
    "ais_train = pd.read_csv('ais_train_cleaned.csv')\n",
    "ports = pd.read_csv('ports.csv', sep='|')\n",
    "schedules = pd.read_csv('schedules_to_may_2024.csv', sep='|')"
   ]
  },
  {
   "cell_type": "code",
   "execution_count": 16,
   "metadata": {},
   "outputs": [],
   "source": [
    "# adding previous port information for each vessel based on schedules\n",
    "schedules['arrivalDate'] = pd.to_datetime(schedules['arrivalDate'])\n",
    "schedules = schedules.sort_values(by=['vesselId', 'arrivalDate'])\n"
   ]
  },
  {
   "cell_type": "code",
   "execution_count": null,
   "metadata": {},
   "outputs": [],
   "source": [
    "# creating a feature indicating the time spent at each port\n",
    "# parse datetime columns for easier handling\n",
    "ais_train['time'] = pd.to_datetime(ais_train['time'], errors='coerce')\n",
    "\n",
    "ais_train['time_since_last_port_call'] = ais_train.groupby('vesselId')['time'].diff().dt.total_seconds() / 3600  # Time in hours\n",
    "\n",
    "# check if vessel is currently at port\n",
    "ais_train['at_port'] = ais_train['portId'].notnull().astype(int)\n"
   ]
  },
  {
   "cell_type": "code",
   "execution_count": 20,
   "metadata": {},
   "outputs": [],
   "source": [
    "# creating a feature indicating if the current day is a weekend\n",
    "ais_train['is_weekend'] = ais_train['day_of_week'].apply(lambda x: 1 if x >= 5 else 0)"
   ]
  },
  {
   "cell_type": "code",
   "execution_count": 22,
   "metadata": {},
   "outputs": [],
   "source": [
    "# normalization of numerical features\n",
    "\n",
    "scaler = MinMaxScaler()\n",
    "numerical_features = ['latitude', 'longitude', 'sog', 'cog', 'distance_travelled', 'delta_sog', 'delta_cog']\n",
    "ais_train[numerical_features] = scaler.fit_transform(ais_train[numerical_features])\n"
   ]
  },
  {
   "cell_type": "code",
   "execution_count": 23,
   "metadata": {},
   "outputs": [],
   "source": [
    "# adding time window to determine morning, afternoon, evening, night\n",
    "def time_window(hour):\n",
    "    if 5 <= hour < 12:\n",
    "        return 'morning'\n",
    "    elif 12 <= hour < 17:\n",
    "        return 'afternoon'\n",
    "    elif 17 <= hour < 21:\n",
    "        return 'evening'\n",
    "    else:\n",
    "        return 'night'\n",
    "\n",
    "ais_train['time_window'] = ais_train['hour_of_day'].apply(time_window)\n",
    "ais_train = pd.get_dummies(ais_train, columns=['time_window'], drop_first=True)\n"
   ]
  },
  {
   "cell_type": "code",
   "execution_count": 24,
   "metadata": {},
   "outputs": [],
   "source": [
    "# calculate the average speed and course for each vessel\n",
    "avg_features = ais_train.groupby('vesselId')[['sog', 'cog']].mean().reset_index()\n",
    "avg_features.rename(columns={'sog': 'avg_sog', 'cog': 'avg_cog'}, inplace=True)\n",
    "\n",
    "ais_train = ais_train.merge(avg_features, on='vesselId', how='left')\n"
   ]
  },
  {
   "cell_type": "code",
   "execution_count": 25,
   "metadata": {},
   "outputs": [],
   "source": [
    "\n",
    "# save the feature-engineered dataset for modeling phase\n",
    "ais_train.to_csv('ais_train_feature_engineered.csv', index=False)\n"
   ]
  }
 ],
 "metadata": {
  "kernelspec": {
   "display_name": "Python 3",
   "language": "python",
   "name": "python3"
  },
  "language_info": {
   "codemirror_mode": {
    "name": "ipython",
    "version": 3
   },
   "file_extension": ".py",
   "mimetype": "text/x-python",
   "name": "python",
   "nbconvert_exporter": "python",
   "pygments_lexer": "ipython3",
   "version": "3.9.13"
  }
 },
 "nbformat": 4,
 "nbformat_minor": 2
}
