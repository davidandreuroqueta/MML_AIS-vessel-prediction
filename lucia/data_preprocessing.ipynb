{
 "cells": [
  {
   "cell_type": "code",
   "execution_count": 194,
   "metadata": {},
   "outputs": [],
   "source": [
    "import pandas as pd\n",
    "import numpy as np\n",
    "import matplotlib.pyplot as plt\n",
    "import seaborn as sns\n",
    "from datetime import datetime\n",
    "from geopy.distance import geodesic\n",
    "\n"
   ]
  },
  {
   "cell_type": "code",
   "execution_count": 195,
   "metadata": {},
   "outputs": [],
   "source": [
    "# load the datasets\n",
    "ais_train = pd.read_csv('ais_train.csv', sep='|')\n",
    "ais_test = pd.read_csv('ais_test.csv', sep='|')\n",
    "ports = pd.read_csv('ports.csv', sep='|')\n",
    "schedules = pd.read_csv('schedules_to_may_2024.csv', sep='|')\n",
    "vessels = pd.read_csv('vessels.csv', sep='|')"
   ]
  },
  {
   "cell_type": "code",
   "execution_count": 196,
   "metadata": {},
   "outputs": [
    {
     "name": "stdout",
     "output_type": "stream",
     "text": [
      "AIS Train Dataset Overview:\n",
      "                  time    cog   sog  rot  heading  navstat       etaRaw  \\\n",
      "0  2024-01-01 00:00:25  284.0   0.7    0       88        0  01-09 23:00   \n",
      "1  2024-01-01 00:00:36  109.6   0.0   -6      347        1  12-29 20:00   \n",
      "2  2024-01-01 00:01:45  111.0  11.0    0      112        0  01-02 09:00   \n",
      "3  2024-01-01 00:03:11   96.4   0.0    0      142        1  12-31 20:00   \n",
      "4  2024-01-01 00:03:51  214.0  19.7    0      215        0  01-25 12:00   \n",
      "\n",
      "   latitude  longitude                  vesselId                    portId  \n",
      "0 -34.74370  -57.85130  61e9f3a8b937134a3c4bfdf7  61d371c43aeaecc07011a37f  \n",
      "1   8.89440  -79.47939  61e9f3d4b937134a3c4bff1f  634c4de270937fc01c3a7689  \n",
      "2  39.19065  -76.47567  61e9f436b937134a3c4c0131  61d3847bb7b7526e1adf3d19  \n",
      "3 -34.41189  151.02067  61e9f3b4b937134a3c4bfe77  61d36f770a1807568ff9a126  \n",
      "4  35.88379   -5.91636  61e9f41bb937134a3c4c0087  634c4de270937fc01c3a74f3  \n"
     ]
    }
   ],
   "source": [
    "# display first few rows of ais_train dataset\n",
    "print(\"AIS Train Dataset Overview:\")\n",
    "print(ais_train.head())"
   ]
  },
  {
   "cell_type": "code",
   "execution_count": 197,
   "metadata": {},
   "outputs": [
    {
     "name": "stdout",
     "output_type": "stream",
     "text": [
      "\n",
      "Missing Values in AIS Train Dataset:\n",
      "time            0\n",
      "cog             0\n",
      "sog             0\n",
      "rot             0\n",
      "heading         0\n",
      "navstat         0\n",
      "etaRaw          0\n",
      "latitude        0\n",
      "longitude       0\n",
      "vesselId        0\n",
      "portId       1615\n",
      "dtype: int64\n"
     ]
    }
   ],
   "source": [
    "# Check for missing values\n",
    "print(\"\\nMissing Values in AIS Train Dataset:\")\n",
    "print(ais_train.isnull().sum())\n"
   ]
  },
  {
   "cell_type": "markdown",
   "metadata": {},
   "source": [
    "Data Cleaning: Handling missing values"
   ]
  },
  {
   "cell_type": "code",
   "execution_count": 198,
   "metadata": {},
   "outputs": [
    {
     "name": "stderr",
     "output_type": "stream",
     "text": [
      "C:\\Users\\lucia\\AppData\\Local\\Temp\\ipykernel_3448\\1101953415.py:2: FutureWarning: A value is trying to be set on a copy of a DataFrame or Series through chained assignment using an inplace method.\n",
      "The behavior will change in pandas 3.0. This inplace method will never work because the intermediate object on which we are setting values always behaves as a copy.\n",
      "\n",
      "For example, when doing 'df[col].method(value, inplace=True)', try using 'df.method({col: value}, inplace=True)' or df[col] = df[col].method(value) instead, to perform the operation inplace on the original object.\n",
      "\n",
      "\n",
      "  ais_train['portId'].fillna(\"unknown\", inplace=True)\n"
     ]
    }
   ],
   "source": [
    "\n",
    "# fill missing values in ais_train dataset\n",
    "ais_train['portId'].fillna(\"unknown\", inplace=True)"
   ]
  },
  {
   "cell_type": "code",
   "execution_count": 199,
   "metadata": {},
   "outputs": [
    {
     "data": {
      "text/html": [
       "<div>\n",
       "<style scoped>\n",
       "    .dataframe tbody tr th:only-of-type {\n",
       "        vertical-align: middle;\n",
       "    }\n",
       "\n",
       "    .dataframe tbody tr th {\n",
       "        vertical-align: top;\n",
       "    }\n",
       "\n",
       "    .dataframe thead th {\n",
       "        text-align: right;\n",
       "    }\n",
       "</style>\n",
       "<table border=\"1\" class=\"dataframe\">\n",
       "  <thead>\n",
       "    <tr style=\"text-align: right;\">\n",
       "      <th></th>\n",
       "      <th>time</th>\n",
       "      <th>cog</th>\n",
       "      <th>sog</th>\n",
       "      <th>rot</th>\n",
       "      <th>heading</th>\n",
       "      <th>navstat</th>\n",
       "      <th>etaRaw</th>\n",
       "      <th>latitude</th>\n",
       "      <th>longitude</th>\n",
       "      <th>vesselId</th>\n",
       "      <th>portId</th>\n",
       "    </tr>\n",
       "  </thead>\n",
       "  <tbody>\n",
       "    <tr>\n",
       "      <th>0</th>\n",
       "      <td>2024-01-01 00:00:25</td>\n",
       "      <td>284.0</td>\n",
       "      <td>0.7</td>\n",
       "      <td>0</td>\n",
       "      <td>88</td>\n",
       "      <td>0</td>\n",
       "      <td>01-09 23:00</td>\n",
       "      <td>-34.74370</td>\n",
       "      <td>-57.85130</td>\n",
       "      <td>61e9f3a8b937134a3c4bfdf7</td>\n",
       "      <td>61d371c43aeaecc07011a37f</td>\n",
       "    </tr>\n",
       "    <tr>\n",
       "      <th>1</th>\n",
       "      <td>2024-01-01 00:00:36</td>\n",
       "      <td>109.6</td>\n",
       "      <td>0.0</td>\n",
       "      <td>-6</td>\n",
       "      <td>347</td>\n",
       "      <td>1</td>\n",
       "      <td>12-29 20:00</td>\n",
       "      <td>8.89440</td>\n",
       "      <td>-79.47939</td>\n",
       "      <td>61e9f3d4b937134a3c4bff1f</td>\n",
       "      <td>634c4de270937fc01c3a7689</td>\n",
       "    </tr>\n",
       "    <tr>\n",
       "      <th>2</th>\n",
       "      <td>2024-01-01 00:01:45</td>\n",
       "      <td>111.0</td>\n",
       "      <td>11.0</td>\n",
       "      <td>0</td>\n",
       "      <td>112</td>\n",
       "      <td>0</td>\n",
       "      <td>01-02 09:00</td>\n",
       "      <td>39.19065</td>\n",
       "      <td>-76.47567</td>\n",
       "      <td>61e9f436b937134a3c4c0131</td>\n",
       "      <td>61d3847bb7b7526e1adf3d19</td>\n",
       "    </tr>\n",
       "    <tr>\n",
       "      <th>3</th>\n",
       "      <td>2024-01-01 00:03:11</td>\n",
       "      <td>96.4</td>\n",
       "      <td>0.0</td>\n",
       "      <td>0</td>\n",
       "      <td>142</td>\n",
       "      <td>1</td>\n",
       "      <td>12-31 20:00</td>\n",
       "      <td>-34.41189</td>\n",
       "      <td>151.02067</td>\n",
       "      <td>61e9f3b4b937134a3c4bfe77</td>\n",
       "      <td>61d36f770a1807568ff9a126</td>\n",
       "    </tr>\n",
       "    <tr>\n",
       "      <th>4</th>\n",
       "      <td>2024-01-01 00:03:51</td>\n",
       "      <td>214.0</td>\n",
       "      <td>19.7</td>\n",
       "      <td>0</td>\n",
       "      <td>215</td>\n",
       "      <td>0</td>\n",
       "      <td>01-25 12:00</td>\n",
       "      <td>35.88379</td>\n",
       "      <td>-5.91636</td>\n",
       "      <td>61e9f41bb937134a3c4c0087</td>\n",
       "      <td>634c4de270937fc01c3a74f3</td>\n",
       "    </tr>\n",
       "    <tr>\n",
       "      <th>...</th>\n",
       "      <td>...</td>\n",
       "      <td>...</td>\n",
       "      <td>...</td>\n",
       "      <td>...</td>\n",
       "      <td>...</td>\n",
       "      <td>...</td>\n",
       "      <td>...</td>\n",
       "      <td>...</td>\n",
       "      <td>...</td>\n",
       "      <td>...</td>\n",
       "      <td>...</td>\n",
       "    </tr>\n",
       "    <tr>\n",
       "      <th>1522060</th>\n",
       "      <td>2024-05-07 23:59:07</td>\n",
       "      <td>359.1</td>\n",
       "      <td>13.4</td>\n",
       "      <td>0</td>\n",
       "      <td>1</td>\n",
       "      <td>0</td>\n",
       "      <td>05-08 05:00</td>\n",
       "      <td>52.19131</td>\n",
       "      <td>-5.82223</td>\n",
       "      <td>clh6aqawa0002gh0zypfa5dut</td>\n",
       "      <td>634c4de270937fc01c3a7417</td>\n",
       "    </tr>\n",
       "    <tr>\n",
       "      <th>1522061</th>\n",
       "      <td>2024-05-07 23:59:08</td>\n",
       "      <td>12.3</td>\n",
       "      <td>17.1</td>\n",
       "      <td>0</td>\n",
       "      <td>13</td>\n",
       "      <td>0</td>\n",
       "      <td>05-10 03:00</td>\n",
       "      <td>38.96142</td>\n",
       "      <td>-12.00502</td>\n",
       "      <td>61e9f3aeb937134a3c4bfe43</td>\n",
       "      <td>634c4de270937fc01c3a76a1</td>\n",
       "    </tr>\n",
       "    <tr>\n",
       "      <th>1522062</th>\n",
       "      <td>2024-05-07 23:59:08</td>\n",
       "      <td>269.8</td>\n",
       "      <td>14.9</td>\n",
       "      <td>-1</td>\n",
       "      <td>270</td>\n",
       "      <td>0</td>\n",
       "      <td>05-15 23:00</td>\n",
       "      <td>49.71372</td>\n",
       "      <td>-5.22042</td>\n",
       "      <td>61e9f43db937134a3c4c0169</td>\n",
       "      <td>634c4de270937fc01c3a787b</td>\n",
       "    </tr>\n",
       "    <tr>\n",
       "      <th>1522063</th>\n",
       "      <td>2024-05-07 23:59:08</td>\n",
       "      <td>8.0</td>\n",
       "      <td>18.7</td>\n",
       "      <td>0</td>\n",
       "      <td>6</td>\n",
       "      <td>0</td>\n",
       "      <td>05-08 12:45</td>\n",
       "      <td>38.27895</td>\n",
       "      <td>10.78280</td>\n",
       "      <td>61e9f469b937134a3c4c029b</td>\n",
       "      <td>61d3781293c6feb83e5eb73b</td>\n",
       "    </tr>\n",
       "    <tr>\n",
       "      <th>1522064</th>\n",
       "      <td>2024-05-07 23:59:08</td>\n",
       "      <td>336.0</td>\n",
       "      <td>14.3</td>\n",
       "      <td>5</td>\n",
       "      <td>337</td>\n",
       "      <td>0</td>\n",
       "      <td>05-07 23:00</td>\n",
       "      <td>38.98635</td>\n",
       "      <td>-75.13275</td>\n",
       "      <td>62080cff66fc0a8e43c6123a</td>\n",
       "      <td>61d38528b7b7526e1adf3e6f</td>\n",
       "    </tr>\n",
       "  </tbody>\n",
       "</table>\n",
       "<p>1522065 rows × 11 columns</p>\n",
       "</div>"
      ],
      "text/plain": [
       "                        time    cog   sog  rot  heading  navstat       etaRaw  \\\n",
       "0        2024-01-01 00:00:25  284.0   0.7    0       88        0  01-09 23:00   \n",
       "1        2024-01-01 00:00:36  109.6   0.0   -6      347        1  12-29 20:00   \n",
       "2        2024-01-01 00:01:45  111.0  11.0    0      112        0  01-02 09:00   \n",
       "3        2024-01-01 00:03:11   96.4   0.0    0      142        1  12-31 20:00   \n",
       "4        2024-01-01 00:03:51  214.0  19.7    0      215        0  01-25 12:00   \n",
       "...                      ...    ...   ...  ...      ...      ...          ...   \n",
       "1522060  2024-05-07 23:59:07  359.1  13.4    0        1        0  05-08 05:00   \n",
       "1522061  2024-05-07 23:59:08   12.3  17.1    0       13        0  05-10 03:00   \n",
       "1522062  2024-05-07 23:59:08  269.8  14.9   -1      270        0  05-15 23:00   \n",
       "1522063  2024-05-07 23:59:08    8.0  18.7    0        6        0  05-08 12:45   \n",
       "1522064  2024-05-07 23:59:08  336.0  14.3    5      337        0  05-07 23:00   \n",
       "\n",
       "         latitude  longitude                   vesselId  \\\n",
       "0       -34.74370  -57.85130   61e9f3a8b937134a3c4bfdf7   \n",
       "1         8.89440  -79.47939   61e9f3d4b937134a3c4bff1f   \n",
       "2        39.19065  -76.47567   61e9f436b937134a3c4c0131   \n",
       "3       -34.41189  151.02067   61e9f3b4b937134a3c4bfe77   \n",
       "4        35.88379   -5.91636   61e9f41bb937134a3c4c0087   \n",
       "...           ...        ...                        ...   \n",
       "1522060  52.19131   -5.82223  clh6aqawa0002gh0zypfa5dut   \n",
       "1522061  38.96142  -12.00502   61e9f3aeb937134a3c4bfe43   \n",
       "1522062  49.71372   -5.22042   61e9f43db937134a3c4c0169   \n",
       "1522063  38.27895   10.78280   61e9f469b937134a3c4c029b   \n",
       "1522064  38.98635  -75.13275   62080cff66fc0a8e43c6123a   \n",
       "\n",
       "                           portId  \n",
       "0        61d371c43aeaecc07011a37f  \n",
       "1        634c4de270937fc01c3a7689  \n",
       "2        61d3847bb7b7526e1adf3d19  \n",
       "3        61d36f770a1807568ff9a126  \n",
       "4        634c4de270937fc01c3a74f3  \n",
       "...                           ...  \n",
       "1522060  634c4de270937fc01c3a7417  \n",
       "1522061  634c4de270937fc01c3a76a1  \n",
       "1522062  634c4de270937fc01c3a787b  \n",
       "1522063  61d3781293c6feb83e5eb73b  \n",
       "1522064  61d38528b7b7526e1adf3e6f  \n",
       "\n",
       "[1522065 rows x 11 columns]"
      ]
     },
     "execution_count": 199,
     "metadata": {},
     "output_type": "execute_result"
    }
   ],
   "source": [
    "ais_train"
   ]
  },
  {
   "cell_type": "code",
   "execution_count": 200,
   "metadata": {},
   "outputs": [],
   "source": [
    "# parse datetime columns for easier handling\n",
    "ais_train['time'] = pd.to_datetime(ais_train['time'], errors='coerce')\n"
   ]
  },
  {
   "cell_type": "markdown",
   "metadata": {},
   "source": [
    "Feature Engineering"
   ]
  },
  {
   "cell_type": "code",
   "execution_count": 201,
   "metadata": {},
   "outputs": [],
   "source": [
    "# derive new features such as day of the week, hour of the day from the timestamp\n",
    "ais_train['day_of_week'] = ais_train['time'].dt.dayofweek\n",
    "ais_train['hour_of_day'] = ais_train['time'].dt.hour\n"
   ]
  },
  {
   "cell_type": "markdown",
   "metadata": {},
   "source": [
    "Exploratory Data Analysis (EDA)"
   ]
  },
  {
   "cell_type": "code",
   "execution_count": 202,
   "metadata": {},
   "outputs": [
    {
     "data": {
      "image/png": "[encoded data removed]",
      "text/plain": [
       "<Figure size 1000x600 with 1 Axes>"
      ]
     },
     "metadata": {},
     "output_type": "display_data"
    }
   ],
   "source": [
    "# plot the distribution of SOG (Speed Over Ground)\n",
    "plt.figure(figsize=(10, 6))\n",
    "sns.histplot(ais_train['sog'], bins=30, kde=True)\n",
    "plt.title('Distribution of Speed Over Ground (SOG)')\n",
    "plt.xlabel('SOG (knots)')\n",
    "plt.ylabel('Frequency')\n",
    "plt.show()\n"
   ]
  },
  {
   "cell_type": "code",
   "execution_count": 203,
   "metadata": {},
   "outputs": [
    {
     "data": {
      "image/png": "[encoded data removed]",
      "text/plain": [
       "<Figure size 1000x800 with 1 Axes>"
      ]
     },
     "metadata": {},
     "output_type": "display_data"
    }
   ],
   "source": [
    "\n",
    "# plot vessel trajectories\n",
    "plt.figure(figsize=(10, 8))\n",
    "plt.scatter(ais_train['longitude'], ais_train['latitude'], alpha=0.5, s=1)\n",
    "plt.title('Vessel Trajectories')\n",
    "plt.xlabel('Longitude')\n",
    "plt.ylabel('Latitude')\n",
    "plt.show()\n"
   ]
  },
  {
   "cell_type": "code",
   "execution_count": 204,
   "metadata": {},
   "outputs": [],
   "source": [
    "# define a function to detect outliers using the Interquartile Range (IQR) method\n",
    "def detect_outliers_iqr(df, column):\n",
    "    Q1 = df[column].quantile(0.25)\n",
    "    Q3 = df[column].quantile(0.75)\n",
    "    IQR = Q3 - Q1\n",
    "    lower_bound = Q1 - 1.5 * IQR\n",
    "    upper_bound = Q3 + 1.5 * IQR\n",
    "    return df[(df[column] < lower_bound) | (df[column] > upper_bound)]\n",
    "\n",
    "    "
   ]
  },
  {
   "cell_type": "code",
   "execution_count": 205,
   "metadata": {},
   "outputs": [
    {
     "name": "stdout",
     "output_type": "stream",
     "text": [
      "Number of SOG outliers detected: 417\n"
     ]
    }
   ],
   "source": [
    "# detect outliers in Speed Over Ground (SOG)\n",
    "sog_outliers = detect_outliers_iqr(ais_train, 'sog')\n",
    "print(f\"Number of SOG outliers detected: {len(sog_outliers)}\")\n"
   ]
  },
  {
   "cell_type": "code",
   "execution_count": 206,
   "metadata": {},
   "outputs": [],
   "source": [
    "\n",
    "# handling ROT (Rate of Turn)\n",
    "# values of ROT between -126 and +126 are valid; cap extreme values to this range\n",
    "ais_train['rot'] = np.clip(ais_train['rot'], -126, 126)\n"
   ]
  },
  {
   "cell_type": "code",
   "execution_count": 207,
   "metadata": {},
   "outputs": [],
   "source": [
    "\n",
    "# handling NAVSTAT (Navigational Status)\n",
    "# remove any entries with invalid NAVSTAT codes\n",
    "valid_navstat_codes = list(range(0, 15))  \n",
    "ais_train = ais_train[ais_train['navstat'].isin(valid_navstat_codes)]\n"
   ]
  },
  {
   "cell_type": "code",
   "execution_count": 208,
   "metadata": {},
   "outputs": [
    {
     "name": "stdout",
     "output_type": "stream",
     "text": [
      "Number of invalid COG values detected: 10858\n"
     ]
    }
   ],
   "source": [
    "# detecting outliers in COG\n",
    "# valid range for COG is 0 to 359 degrees\n",
    "invalid_cog = ais_train[(ais_train['cog'] < 0) | (ais_train['cog'] > 359)]\n",
    "print(f\"Number of invalid COG values detected: {len(invalid_cog)}\")\n"
   ]
  },
  {
   "cell_type": "code",
   "execution_count": 209,
   "metadata": {},
   "outputs": [
    {
     "name": "stderr",
     "output_type": "stream",
     "text": [
      "C:\\Users\\lucia\\AppData\\Local\\Temp\\ipykernel_3448\\2074430566.py:3: SettingWithCopyWarning: \n",
      "A value is trying to be set on a copy of a slice from a DataFrame.\n",
      "Try using .loc[row_indexer,col_indexer] = value instead\n",
      "\n",
      "See the caveats in the documentation: https://pandas.pydata.org/pandas-docs/stable/user_guide/indexing.html#returning-a-view-versus-a-copy\n",
      "  ais_train['cog'] = np.clip(ais_train['cog'], 0, 359)\n"
     ]
    }
   ],
   "source": [
    "# handling COG outliers\n",
    "# cap COG values within the range 0 to 359\n",
    "ais_train['cog'] = np.clip(ais_train['cog'], 0, 359)\n"
   ]
  },
  {
   "cell_type": "code",
   "execution_count": 210,
   "metadata": {},
   "outputs": [
    {
     "name": "stdout",
     "output_type": "stream",
     "text": [
      "\n",
      "Summary after Outlier Treatment for COG:\n",
      "count    1.521395e+06\n",
      "mean     1.782427e+02\n",
      "std      1.076759e+02\n",
      "min      0.000000e+00\n",
      "25%      7.810000e+01\n",
      "50%      1.838000e+02\n",
      "75%      2.690000e+02\n",
      "max      3.590000e+02\n",
      "Name: cog, dtype: float64\n"
     ]
    }
   ],
   "source": [
    "# summary after outlier treatment for COG\n",
    "print(\"\\nSummary after Outlier Treatment for COG:\")\n",
    "print(ais_train['cog'].describe())"
   ]
  },
  {
   "cell_type": "code",
   "execution_count": 211,
   "metadata": {},
   "outputs": [
    {
     "name": "stdout",
     "output_type": "stream",
     "text": [
      "\n",
      "Summary after Outlier Treatment:\n"
     ]
    },
    {
     "name": "stdout",
     "output_type": "stream",
     "text": [
      "                                time           cog           sog  \\\n",
      "count                        1521395  1.521395e+06  1.521395e+06   \n",
      "mean   2024-03-06 03:41:21.000296448  1.782427e+02  6.334214e+00   \n",
      "min              2024-01-01 00:00:25  0.000000e+00  0.000000e+00   \n",
      "25%       2024-02-03 03:53:40.500000  7.810000e+01  0.000000e+00   \n",
      "50%              2024-03-07 13:13:47  1.838000e+02  5.000000e-01   \n",
      "75%              2024-04-07 07:57:59  2.690000e+02  1.410000e+01   \n",
      "max              2024-05-07 23:59:08  3.590000e+02  1.023000e+02   \n",
      "std                              NaN  1.076759e+02  7.539847e+00   \n",
      "\n",
      "                rot       heading       navstat      latitude     longitude  \\\n",
      "count  1.521395e+06  1.521395e+06  1.521395e+06  1.521395e+06  1.521395e+06   \n",
      "mean   4.977583e-01  1.762266e+02  2.086920e+00  3.658465e+01  1.149435e+01   \n",
      "min   -1.260000e+02  0.000000e+00  0.000000e+00 -4.753287e+01 -1.675409e+02   \n",
      "25%    0.000000e+00  7.500000e+01  0.000000e+00  3.451430e+01 -5.219975e+00   \n",
      "50%    0.000000e+00  1.800000e+02  0.000000e+00  4.223373e+01  4.234300e+00   \n",
      "75%    0.000000e+00  2.650000e+02  5.000000e+00  5.135257e+01  1.876967e+01   \n",
      "max    1.260000e+02  5.110000e+02  1.400000e+01  7.055720e+01  1.788054e+02   \n",
      "std    1.745202e+01  1.070786e+02  2.397235e+00  2.290877e+01  6.869481e+01   \n",
      "\n",
      "        day_of_week   hour_of_day  \n",
      "count  1.521395e+06  1.521395e+06  \n",
      "mean   2.964062e+00  1.156292e+01  \n",
      "min    0.000000e+00  0.000000e+00  \n",
      "25%    1.000000e+00  6.000000e+00  \n",
      "50%    3.000000e+00  1.200000e+01  \n",
      "75%    5.000000e+00  1.800000e+01  \n",
      "max    6.000000e+00  2.300000e+01  \n",
      "std    2.000462e+00  6.918621e+00  \n"
     ]
    }
   ],
   "source": [
    "\n",
    "# summary after outlier treatment\n",
    "print(\"\\nSummary after Outlier Treatment:\")\n",
    "print(ais_train.describe())"
   ]
  },
  {
   "cell_type": "code",
   "execution_count": 212,
   "metadata": {},
   "outputs": [],
   "source": [
    "\n",
    "# Lag Features: create lagged variables for latitude, longitude, SOG, COG\n",
    "# this will help the model understand the recent movement patterns of each vessel\n",
    "ais_train = ais_train.sort_values(by=['vesselId', 'time'])\n",
    "lag_features = ['latitude', 'longitude', 'sog', 'cog']\n",
    "for feature in lag_features:\n",
    "    for lag in range(1, 4):  # using a 3-step lag\n",
    "        ais_train[f'{feature}_lag_{lag}'] = ais_train.groupby('vesselId')[feature].shift(lag)\n",
    "\n",
    "# Rolling Statistics: create rolling averages to smooth out random fluctuations\n",
    "for feature in lag_features:\n",
    "    ais_train[f'{feature}_rolling_mean'] = ais_train.groupby('vesselId')[feature].rolling(window=3).mean().reset_index(level=0, drop=True)\n"
   ]
  },
  {
   "cell_type": "code",
   "execution_count": 213,
   "metadata": {},
   "outputs": [],
   "source": [
    "# calculate distance travelled between consecutive points\n",
    "\n",
    "def calculate_distance(row):\n",
    "    if pd.notnull(row['latitude_lag_1']) and pd.notnull(row['longitude_lag_1']):\n",
    "        start = (row['latitude_lag_1'], row['longitude_lag_1'])\n",
    "        end = (row['latitude'], row['longitude'])\n",
    "        return geodesic(start, end).km\n",
    "    else:\n",
    "        return np.nan\n",
    "\n",
    "ais_train['distance_travelled'] = ais_train.apply(calculate_distance, axis=1)\n"
   ]
  },
  {
   "cell_type": "code",
   "execution_count": 214,
   "metadata": {},
   "outputs": [],
   "source": [
    "# velocity and bearing change\n",
    "# calculate change in speed (delta SOG) and change in course (delta COG)\n",
    "ais_train['delta_sog'] = ais_train.groupby('vesselId')['sog'].diff()\n",
    "ais_train['delta_cog'] = ais_train.groupby('vesselId')['cog'].diff()\n"
   ]
  },
  {
   "cell_type": "code",
   "execution_count": 215,
   "metadata": {},
   "outputs": [],
   "source": [
    "# Temporal Features: encode time of the day and day of the week as cyclic features\n",
    "# this helps the model understand periodic patterns (e.g., vessels tend to travel more during certain hours)\n",
    "ais_train['hour_sin'] = np.sin(2 * np.pi * ais_train['hour_of_day'] / 24)\n",
    "ais_train['hour_cos'] = np.cos(2 * np.pi * ais_train['hour_of_day'] / 24)\n",
    "ais_train['day_sin'] = np.sin(2 * np.pi * ais_train['day_of_week'] / 7)\n",
    "ais_train['day_cos'] = np.cos(2 * np.pi * ais_train['day_of_week'] / 7)"
   ]
  },
  {
   "cell_type": "markdown",
   "metadata": {},
   "source": [
    "Lag Features: creation of lag features (LATITUDE, LONGITUDE, SOG, COG) for the past 3 steps. This helps the model understand the recent movement history of each vessel.\n",
    "\n",
    "Rolling Statistics: rolling means for each vessel's movement to smooth out fluctuations. This helps capture a more generalized trend.\n",
    "\n",
    "Distance Travelled: distance between consecutive coordinates (LATITUDE, LONGITUDE) is calculated using the geodesic function from geopy. This feature can be useful for understanding vessel velocity over a sequence of time.\n",
    "\n",
    "Change in Speed and Course: delta_SOG and delta_COG capture changes in speed and direction, respectively. Abrupt changes might indicate maneuvers or congested conditions.\n",
    "\n",
    "Temporal Features:to represent the cyclical nature of time, sine and cosine transformations were used on hour_of_day and day_of_week. This allows the model to better understand temporal cycles.\n"
   ]
  },
  {
   "cell_type": "code",
   "execution_count": 216,
   "metadata": {},
   "outputs": [],
   "source": [
    "\n",
    "\n",
    "# Vessel-Specific Features: join vessel information to the AIS dataset\n",
    "ais_train = ais_train.merge(vessels, how='left', left_on='vesselId', right_on='vesselId')\n",
    "# select and drop irrelevant columns\n",
    "\n"
   ]
  },
  {
   "cell_type": "code",
   "execution_count": 217,
   "metadata": {},
   "outputs": [],
   "source": [
    "\n",
    "# merge with Ports dataset\n",
    "ais_train = ais_train.merge(ports, how='left', left_on='portId', right_on='portId')\n",
    "\n",
    "ais_train = ais_train.rename(columns={'longitude_x': 'longitude', 'latitude_x': 'latitude', 'longitude_y': 'port_longitude', 'latitude_y': 'port_latitude'})\n",
    "\n",
    "# drop redundant columns after merging\n",
    "ais_train.drop(columns=['name', 'portLocation', 'UN_LOCODE', 'ISO'], inplace=True)\n",
    "\n",
    "def distance_to_port(row):\n",
    "    if pd.notnull(row['latitude']) and pd.notnull(row['port_latitude']) and pd.notnull(row['longitude']) and pd.notnull(row['port_longitude']):\n",
    "        vessel_position = (row['latitude'], row['longitude'])\n",
    "        port_position = (row['port_latitude'], row['port_longitude'])\n",
    "        return geodesic(vessel_position, port_position).km\n",
    "    else:\n",
    "        return np.nan\n",
    "\n",
    "ais_train['distance_to_port'] = ais_train.apply(distance_to_port, axis=1)"
   ]
  },
  {
   "cell_type": "code",
   "execution_count": 218,
   "metadata": {},
   "outputs": [
    {
     "name": "stdout",
     "output_type": "stream",
     "text": [
      "Missing values in each column of the AIS Train dataset:\n",
      "time                            0\n",
      "cog                             0\n",
      "sog                             0\n",
      "rot                             0\n",
      "heading                         0\n",
      "navstat                         0\n",
      "etaRaw                          0\n",
      "latitude                        0\n",
      "longitude                       0\n",
      "vesselId                        0\n",
      "portId                          0\n",
      "day_of_week                     0\n",
      "hour_of_day                     0\n",
      "latitude_lag_1                688\n",
      "latitude_lag_2               1375\n",
      "latitude_lag_3               2062\n",
      "longitude_lag_1               688\n",
      "longitude_lag_2              1375\n",
      "longitude_lag_3              2062\n",
      "sog_lag_1                     688\n",
      "sog_lag_2                    1375\n",
      "sog_lag_3                    2062\n",
      "cog_lag_1                     688\n",
      "cog_lag_2                    1375\n",
      "cog_lag_3                    2062\n",
      "latitude_rolling_mean        1375\n",
      "longitude_rolling_mean       1375\n",
      "sog_rolling_mean             1375\n",
      "cog_rolling_mean             1375\n",
      "distance_travelled            688\n",
      "delta_sog                     688\n",
      "delta_cog                     688\n",
      "hour_sin                        0\n",
      "hour_cos                        0\n",
      "day_sin                         0\n",
      "day_cos                         0\n",
      "shippingLineId                  0\n",
      "CEU                             0\n",
      "DWT                         14949\n",
      "GT                              0\n",
      "NT                        1210887\n",
      "vesselType                  20987\n",
      "breadth                     14949\n",
      "depth                     1129978\n",
      "draft                     1483955\n",
      "enginePower                 59747\n",
      "freshWater                1164118\n",
      "fuel                      1164118\n",
      "homePort                   306289\n",
      "length                          0\n",
      "maxHeight                 1453275\n",
      "maxSpeed                  1187872\n",
      "maxWidth                  1453275\n",
      "rampCapacity              1456924\n",
      "yearBuilt                       0\n",
      "port_longitude               1598\n",
      "port_latitude                1598\n",
      "countryName                  1598\n",
      "distance_to_port             1598\n",
      "dtype: int64\n"
     ]
    }
   ],
   "source": [
    "\n",
    "# more analysis of missing values\n",
    "print(\"Missing values in each column of the AIS Train dataset:\")\n",
    "print(ais_train.isnull().sum())"
   ]
  },
  {
   "cell_type": "code",
   "execution_count": 219,
   "metadata": {},
   "outputs": [
    {
     "name": "stdout",
     "output_type": "stream",
     "text": [
      "\n",
      "Percentage of missing values in each column:\n",
      "time                       0.000000\n",
      "cog                        0.000000\n",
      "sog                        0.000000\n",
      "rot                        0.000000\n",
      "heading                    0.000000\n",
      "navstat                    0.000000\n",
      "etaRaw                     0.000000\n",
      "latitude                   0.000000\n",
      "longitude                  0.000000\n",
      "vesselId                   0.000000\n",
      "portId                     0.000000\n",
      "day_of_week                0.000000\n",
      "hour_of_day                0.000000\n",
      "latitude_lag_1             0.045222\n",
      "latitude_lag_2             0.090378\n",
      "latitude_lag_3             0.135534\n",
      "longitude_lag_1            0.045222\n",
      "longitude_lag_2            0.090378\n",
      "longitude_lag_3            0.135534\n",
      "sog_lag_1                  0.045222\n",
      "sog_lag_2                  0.090378\n",
      "sog_lag_3                  0.135534\n",
      "cog_lag_1                  0.045222\n",
      "cog_lag_2                  0.090378\n",
      "cog_lag_3                  0.135534\n",
      "latitude_rolling_mean      0.090378\n",
      "longitude_rolling_mean     0.090378\n",
      "sog_rolling_mean           0.090378\n",
      "cog_rolling_mean           0.090378\n",
      "distance_travelled         0.045222\n",
      "delta_sog                  0.045222\n",
      "delta_cog                  0.045222\n",
      "hour_sin                   0.000000\n",
      "hour_cos                   0.000000\n",
      "day_sin                    0.000000\n",
      "day_cos                    0.000000\n",
      "shippingLineId             0.000000\n",
      "CEU                        0.000000\n",
      "DWT                        0.982585\n",
      "GT                         0.000000\n",
      "NT                        79.590573\n",
      "vesselType                 1.379458\n",
      "breadth                    0.982585\n",
      "depth                     74.272493\n",
      "draft                     97.539101\n",
      "enginePower                3.927120\n",
      "freshWater                76.516487\n",
      "fuel                      76.516487\n",
      "homePort                  20.132116\n",
      "length                     0.000000\n",
      "maxHeight                 95.522530\n",
      "maxSpeed                  78.077817\n",
      "maxWidth                  95.522530\n",
      "rampCapacity              95.762376\n",
      "yearBuilt                  0.000000\n",
      "port_longitude             0.105035\n",
      "port_latitude              0.105035\n",
      "countryName                0.105035\n",
      "distance_to_port           0.105035\n",
      "dtype: float64\n",
      "\n",
      "Columns dropped due to having more than 50% missing values: ['NT', 'depth', 'draft', 'freshWater', 'fuel', 'maxHeight', 'maxSpeed', 'maxWidth', 'rampCapacity']\n"
     ]
    }
   ],
   "source": [
    "\n",
    "# analysis of which columns have many missing values\n",
    "total_rows = len(ais_train)\n",
    "missing_percentage = ais_train.isnull().sum() / total_rows * 100\n",
    "print(\"\\nPercentage of missing values in each column:\")\n",
    "print(missing_percentage)\n",
    "\n",
    "# drop columns with more than 50% missing values\n",
    "drop_cols = missing_percentage[missing_percentage > 50].index\n",
    "print(f\"\\nColumns dropped due to having more than 50% missing values: {list(drop_cols)}\")\n",
    "ais_train.drop(columns=drop_cols, inplace=True)\n",
    "\n",
    "\n",
    "\n",
    "# # impute missing values in numerical columns using the mean or interpolation\n",
    "# num_cols = ais_train.select_dtypes(include=['float64', 'int64']).columns\n",
    "# ais_train[num_cols] = ais_train[num_cols].apply(lambda x: x.fillna(x.mean()))\n"
   ]
  },
  {
   "cell_type": "code",
   "execution_count": 220,
   "metadata": {},
   "outputs": [
    {
     "name": "stdout",
     "output_type": "stream",
     "text": [
      "\n",
      "Categorical variables to convert:\n",
      "navstat\n",
      "0     782099\n",
      "5     605831\n",
      "1     129515\n",
      "2       2081\n",
      "8        948\n",
      "6        521\n",
      "4        232\n",
      "3        161\n",
      "11         2\n",
      "13         1\n",
      "14         1\n",
      "7          1\n",
      "12         1\n",
      "9          1\n",
      "Name: count, dtype: int64\n"
     ]
    }
   ],
   "source": [
    "# convert NAVSTAT into dummy variables\n",
    "print(\"\\nCategorical variables to convert:\")\n",
    "print(ais_train['navstat'].value_counts())\n",
    "\n",
    "# convert 'navstat' into dummy variables\n",
    "ais_train = pd.get_dummies(ais_train, columns=['navstat'], prefix='navstat', prefix_sep='_', drop_first=False)\n"
   ]
  },
  {
   "cell_type": "code",
   "execution_count": 221,
   "metadata": {},
   "outputs": [
    {
     "data": {
      "text/plain": [
       "Index(['time', 'cog', 'sog', 'rot', 'heading', 'etaRaw', 'latitude',\n",
       "       'longitude', 'vesselId', 'portId', 'day_of_week', 'hour_of_day',\n",
       "       'latitude_lag_1', 'latitude_lag_2', 'latitude_lag_3', 'longitude_lag_1',\n",
       "       'longitude_lag_2', 'longitude_lag_3', 'sog_lag_1', 'sog_lag_2',\n",
       "       'sog_lag_3', 'cog_lag_1', 'cog_lag_2', 'cog_lag_3',\n",
       "       'latitude_rolling_mean', 'longitude_rolling_mean', 'sog_rolling_mean',\n",
       "       'cog_rolling_mean', 'distance_travelled', 'delta_sog', 'delta_cog',\n",
       "       'hour_sin', 'hour_cos', 'day_sin', 'day_cos', 'shippingLineId', 'CEU',\n",
       "       'DWT', 'GT', 'vesselType', 'breadth', 'enginePower', 'homePort',\n",
       "       'length', 'yearBuilt', 'port_longitude', 'port_latitude', 'countryName',\n",
       "       'distance_to_port', 'navstat_0', 'navstat_1', 'navstat_2', 'navstat_3',\n",
       "       'navstat_4', 'navstat_5', 'navstat_6', 'navstat_7', 'navstat_8',\n",
       "       'navstat_9', 'navstat_11', 'navstat_12', 'navstat_13', 'navstat_14'],\n",
       "      dtype='object')"
      ]
     },
     "execution_count": 221,
     "metadata": {},
     "output_type": "execute_result"
    }
   ],
   "source": [
    "ais_train.columns"
   ]
  },
  {
   "cell_type": "code",
   "execution_count": 222,
   "metadata": {},
   "outputs": [
    {
     "name": "stdout",
     "output_type": "stream",
     "text": [
      "\n",
      "AIS Train dataset after optimizations:\n",
      "                 time    cog   sog  rot  heading       etaRaw  latitude  \\\n",
      "0 2024-01-12 14:07:47  308.1  17.1   -6      316  01-08 06:00   7.50361   \n",
      "1 2024-01-12 14:31:00  307.6  17.3    5      313  01-14 23:30   7.57302   \n",
      "2 2024-01-12 14:57:23  306.8  16.9    5      312  01-14 23:30   7.65043   \n",
      "3 2024-01-12 15:18:48  307.9  16.9    6      313  01-14 23:30   7.71275   \n",
      "4 2024-01-12 15:39:47  307.0  16.3    7      313  01-14 23:30   7.77191   \n",
      "\n",
      "   longitude                  vesselId                    portId  ...  \\\n",
      "0   77.58340  61e9f38eb937134a3c4bfd8b  61d376b393c6feb83e5eb50c  ...   \n",
      "1   77.49505  61e9f38eb937134a3c4bfd8b  61d376d893c6feb83e5eb546  ...   \n",
      "2   77.39404  61e9f38eb937134a3c4bfd8b  61d376d893c6feb83e5eb546  ...   \n",
      "3   77.31394  61e9f38eb937134a3c4bfd8b  61d376d893c6feb83e5eb546  ...   \n",
      "4   77.23585  61e9f38eb937134a3c4bfd8b  61d376d893c6feb83e5eb546  ...   \n",
      "\n",
      "   navstat_5  navstat_6  navstat_7  navstat_8  navstat_9  navstat_11  \\\n",
      "0      False      False      False      False      False       False   \n",
      "1      False      False      False      False      False       False   \n",
      "2      False      False      False      False      False       False   \n",
      "3      False      False      False      False      False       False   \n",
      "4      False      False      False      False      False       False   \n",
      "\n",
      "   navstat_12  navstat_13  navstat_14  vessel_status  \n",
      "0       False       False       False         moving  \n",
      "1       False       False       False         moving  \n",
      "2       False       False       False         moving  \n",
      "3       False       False       False         moving  \n",
      "4       False       False       False         moving  \n",
      "\n",
      "[5 rows x 64 columns]\n"
     ]
    }
   ],
   "source": [
    "# create a new feature \"vessel_status\" based on NAVSTAT codes\n",
    "# group NAVSTAT into \"moving\" and \"stationary\" based on categories\n",
    "\n",
    "unknown_code = [2, 3, 4, 9, 11, 12, 13, 14]  # other codes with less defined status, but without 10 and 15 that does not appear in the dataset\n",
    "moving_codes = ['navstat_0', 'navstat_8']  # dummy variables indicating the vessel is moving\n",
    "stationary_codes = ['navstat_1', 'navstat_5', 'navstat_6', 'navstat_7']  # dummy variables indicating the vessel is stationary\n",
    "unknown_codes = ['navstat_' + str(code) for code in unknown_code]\n",
    "\n",
    "\n",
    "# create the 'vessel_status' feature\n",
    "ais_train['vessel_status'] = ais_train[moving_codes].max(axis=1).apply(lambda x: 'moving' if x == 1 else None)\n",
    "ais_train['vessel_status'] = ais_train.apply(lambda row: 'stationary' if row[stationary_codes].max() == 1 else row['vessel_status'], axis=1)\n",
    "ais_train['vessel_status'] = ais_train.apply(lambda row: 'unknown' if row[unknown_codes].max() == 1 else row['vessel_status'], axis=1)\n",
    "\n",
    "# show the first few rows to review changes\n",
    "print(\"\\nAIS Train dataset after optimizations:\")\n",
    "print(ais_train.head())\n",
    "\n",
    "\n"
   ]
  },
  {
   "cell_type": "code",
   "execution_count": 223,
   "metadata": {},
   "outputs": [],
   "source": [
    "# save cleaned data for further processing\n",
    "ais_train.to_csv('ais_train_cleaned.csv', index=False)"
   ]
  }
 ],
 "metadata": {
  "kernelspec": {
   "display_name": "Python 3",
   "language": "python",
   "name": "python3"
  },
  "language_info": {
   "codemirror_mode": {
    "name": "ipython",
    "version": 3
   },
   "file_extension": ".py",
   "mimetype": "text/x-python",
   "name": "python",
   "nbconvert_exporter": "python",
   "pygments_lexer": "ipython3",
   "version": "3.9.13"
  }
 },
 "nbformat": 4,
 "nbformat_minor": 2
}
